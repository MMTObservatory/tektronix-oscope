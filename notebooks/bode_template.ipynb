{
 "cells": [
  {
   "cell_type": "markdown",
   "metadata": {},
   "source": [
    "# Frequency Response Using MMT Tektronix Oscillocope\n",
    "\n",
    "This notebook uses the [tektronix python library](https://github.com/srswinde/control_analysis) to measure the frequency response of a given plant. \n"
   ]
  },
  {
   "cell_type": "code",
   "execution_count": null,
   "metadata": {},
   "outputs": [],
   "source": [
    "from pathlib import Path\n",
    "import sys\n",
    "sys.path.insert(0, str(Path.cwd().parent))\n",
    "import tektronix\n",
    "from tektronix.appconfig import AppConfig; config=AppConfig(Path.cwd().parent/'config.ini')\n",
    "import tektronix.tektronix\n",
    "from tektronix.tektronix import http; \n",
    "from IPython.display import Image, display\n",
    "from importlib import reload\n",
    "import pandas as pd\n",
    "import matplotlib.pyplot as plt\n",
    "import time\n",
    "%matplotlib notebook"
   ]
  },
  {
   "cell_type": "code",
   "execution_count": null,
   "metadata": {},
   "outputs": [],
   "source": [
    "def freq_response(how_many=10, comm=None):\n",
    "    \n",
    "    \"\"\"\n",
    "    This function grabs measurement data and the screenshot \n",
    "    of the tektronix oscilloscope in order to calculate the\n",
    "    frequency response of a plant. This will only work if\n",
    "    the oscilloscope's input/output wiring is set up in \n",
    "    the following way.\n",
    "    \n",
    "                   -------\n",
    "              +--> | ch1 |               \n",
    "    --------  |    -------\n",
    "    | input|--|    ---------      ----------     -------\n",
    "    --------  +--> | plant | ---> | output | --> | ch2 |\n",
    "                   ---------      ----------     -------\n",
    "                   \n",
    "    The tektronix oscilloscope has the ability to measure\n",
    "    waveform characteristics. In order for the analysis to \n",
    "    work, you need to set up the measurements correctly. This\n",
    "    is done by pressing 'Measure' on the oscilloscope followed\n",
    "    by \"Select Measurement For <ch>\" (below the screen) and \n",
    "    then the channel that is to be measured. You may need to \n",
    "    clear previous measurements before selecting the measurements\n",
    "    \n",
    "    Measurement 1: Measure Amplitude on ch1\n",
    "    Measurement 2: Measure Amplitude on ch2\n",
    "    Measurement 3: Measure Phase diff between ch1 and ch2\n",
    "    Measurement 4: Measure Frequency of ch2\n",
    "    \n",
    "    \"\"\"\n",
    "    \n",
    "    if comm is None:\n",
    "        ip = input(\"Please give IP address of Oscilloscope\")\n",
    "        comm = http(comm)\n",
    "    \n",
    "    cols = ('amp_in', 'amp_out', 'phase', 'freq')\n",
    "    data = pd.DataFrame(columns=cols, dtype=float, index=range(how_many))\n",
    "    \n",
    "    for ii in range(how_many):\n",
    "        \n",
    "        input(\"Set the frequency and hit enter.\")\n",
    "        \n",
    "        # do a statistical reset\n",
    "        comm.converse('MEASUrement:STATIstics:MODE OFF')\n",
    "        time.sleep(1.0)\n",
    "        comm.converse('MEASUrement:STATIstics:MODE MEANSTD')\n",
    "        img=comm.get_raw_image()\n",
    "        idisplay=Image(data=img, height=20, width=200)\n",
    "        display(idisplay)\n",
    "        time.sleep(5.0)\n",
    "        amp_in=float(comm.converse('measurement:meas1:value?'))\n",
    "        amp_out=float(comm.converse('measurement:meas2:value?'))\n",
    "        phase=float(comm.converse('measurement:meas3:value?'))\n",
    "        freq=float(comm.converse('measurement:meas4:value?'))\n",
    "        \n",
    "        data.iloc[ii]={'amp_in':float(amp_in), \n",
    "                     'amp_out':float(amp_out), \n",
    "                     'phase':float(phase), \n",
    "                     'freq':float(freq)}\n",
    "                    \n",
    "\n",
    "        print(data.iloc[ii])\n",
    "        \n",
    "        print(\"++++++++++++++++++++++++++++++++++++++++++++++++++++++++++++++++++++++++++++++++++++++\")\n",
    "    mag = pd.DataFrame({'magnitude':list(20*np.log10(data['amp_out']/data['amp_in']))}, index=data['freq'])\n",
    "    phase = pd.DataFrame({'phase':list(data['phase']) }, index=data['freq'])\n",
    "    return data, mag, phase"
   ]
  },
  {
   "cell_type": "code",
   "execution_count": null,
   "metadata": {},
   "outputs": [],
   "source": [
   {% if comm is None %}
    "freq_resp( how_many={{ how_many }})"
    {% else %}
    "freq_resp( how_many={{ how_many }}, comm=http('{{ comm }}'))"
    {% end %}
   ]
  }
 ],
 "metadata": {
  "kernelspec": {
   "display_name": "Python 3",
   "language": "python",
   "name": "python3"
  },
  "language_info": {
   "codemirror_mode": {
    "name": "ipython",
    "version": 3
   },
   "file_extension": ".py",
   "mimetype": "text/x-python",
   "name": "python",
   "nbconvert_exporter": "python",
   "pygments_lexer": "ipython3",
   "version": "3.7.7"
  },
  "varInspector": {
   "cols": {
    "lenName": 16,
    "lenType": 16,
    "lenVar": 40
   },
   "kernels_config": {
    "python": {
     "delete_cmd_postfix": "",
     "delete_cmd_prefix": "del ",
     "library": "var_list.py",
     "varRefreshCmd": "print(var_dic_list())"
    },
    "r": {
     "delete_cmd_postfix": ") ",
     "delete_cmd_prefix": "rm(",
     "library": "var_list.r",
     "varRefreshCmd": "cat(var_dic_list()) "
    }
   },
   "types_to_exclude": [
    "module",
    "function",
    "builtin_function_or_method",
    "instance",
    "_Feature"
   ],
   "window_display": false
  }
 },
 "nbformat": 4,
 "nbformat_minor": 4
}
